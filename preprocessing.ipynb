{
 "cells": [
  {
   "cell_type": "code",
   "execution_count": 3,
   "metadata": {},
   "outputs": [],
   "source": [
    "# Import necessary libraries\n",
    "import numpy as np\n",
    "import pandas as pd\n",
    "import matplotlib.pyplot as plt\n",
    "\n",
    "import os\n",
    "import cv2\n",
    "\n",
    "import tensorflow as tf\n",
    "from sklearn.model_selection import train_test_split"
   ]
  },
  {
   "cell_type": "markdown",
   "metadata": {},
   "source": [
    "## Preprocessing Mel Spectrograms\n",
    "\n",
    "The following cells convert Mel spectrograms to grayscale, resize and normalize them. The output is used to create train, test and validation datasets."
   ]
  },
  {
   "cell_type": "code",
   "execution_count": 4,
   "metadata": {},
   "outputs": [],
   "source": [
    "# Performing all necessary operations by the input as image_file\n",
    "def image_processor(image_file):\n",
    "    size = (64,64)\n",
    "    \n",
    "    # Read the created spectrograms:\n",
    "    img = cv2.imread(image_file)\n",
    "    \n",
    "    # Grayscaling:\n",
    "    gray_img = cv2.cvtColor(img, cv2.COLOR_BGR2GRAY)\n",
    "\n",
    "    # Resizing:\n",
    "    gray_img_small = cv2.resize(gray_img, size)\n",
    "\n",
    "    # Normalize:\n",
    "    normalizedImg = np.zeros((100, 100))\n",
    "    gray_img_small_normalized = cv2.normalize(gray_img_small,  normalizedImg, 0, 255, cv2.NORM_MINMAX)\n",
    "\n",
    "    return gray_img_small_normalized"
   ]
  },
  {
   "cell_type": "code",
   "execution_count": 5,
   "metadata": {},
   "outputs": [],
   "source": [
    "# Again, we used metadata file to extract class id by matching filename and class id.\n",
    "# Metadata.csv --> Pandas dataframe\n",
    "metaDF = pd.read_csv(r\"C:\\Users\\kemal\\Desktop\\UrbanSound8K\\metadata\\UrbanSound8K.csv\")"
   ]
  },
  {
   "cell_type": "code",
   "execution_count": 9,
   "metadata": {},
   "outputs": [
    {
     "data": {
      "text/html": [
       "<div>\n",
       "<style scoped>\n",
       "    .dataframe tbody tr th:only-of-type {\n",
       "        vertical-align: middle;\n",
       "    }\n",
       "\n",
       "    .dataframe tbody tr th {\n",
       "        vertical-align: top;\n",
       "    }\n",
       "\n",
       "    .dataframe thead th {\n",
       "        text-align: right;\n",
       "    }\n",
       "</style>\n",
       "<table border=\"1\" class=\"dataframe\">\n",
       "  <thead>\n",
       "    <tr style=\"text-align: right;\">\n",
       "      <th></th>\n",
       "      <th>slice_file_name</th>\n",
       "      <th>fsID</th>\n",
       "      <th>start</th>\n",
       "      <th>end</th>\n",
       "      <th>salience</th>\n",
       "      <th>fold</th>\n",
       "      <th>classID</th>\n",
       "      <th>class</th>\n",
       "    </tr>\n",
       "  </thead>\n",
       "  <tbody>\n",
       "    <tr>\n",
       "      <th>7318</th>\n",
       "      <td>6902-2-0-26.wav</td>\n",
       "      <td>6902</td>\n",
       "      <td>13.000000</td>\n",
       "      <td>17.000000</td>\n",
       "      <td>1</td>\n",
       "      <td>7</td>\n",
       "      <td>2</td>\n",
       "      <td>children_playing</td>\n",
       "    </tr>\n",
       "    <tr>\n",
       "      <th>6772</th>\n",
       "      <td>54898-8-0-4.wav</td>\n",
       "      <td>54898</td>\n",
       "      <td>48.992301</td>\n",
       "      <td>52.992301</td>\n",
       "      <td>2</td>\n",
       "      <td>3</td>\n",
       "      <td>8</td>\n",
       "      <td>siren</td>\n",
       "    </tr>\n",
       "    <tr>\n",
       "      <th>6409</th>\n",
       "      <td>42117-8-0-0.wav</td>\n",
       "      <td>42117</td>\n",
       "      <td>88.660252</td>\n",
       "      <td>92.660252</td>\n",
       "      <td>2</td>\n",
       "      <td>3</td>\n",
       "      <td>8</td>\n",
       "      <td>siren</td>\n",
       "    </tr>\n",
       "    <tr>\n",
       "      <th>3970</th>\n",
       "      <td>177756-2-0-12.wav</td>\n",
       "      <td>177756</td>\n",
       "      <td>6.000000</td>\n",
       "      <td>10.000000</td>\n",
       "      <td>1</td>\n",
       "      <td>4</td>\n",
       "      <td>2</td>\n",
       "      <td>children_playing</td>\n",
       "    </tr>\n",
       "    <tr>\n",
       "      <th>8365</th>\n",
       "      <td>89443-9-0-48.wav</td>\n",
       "      <td>89443</td>\n",
       "      <td>24.000000</td>\n",
       "      <td>28.000000</td>\n",
       "      <td>1</td>\n",
       "      <td>7</td>\n",
       "      <td>9</td>\n",
       "      <td>street_music</td>\n",
       "    </tr>\n",
       "    <tr>\n",
       "      <th>4433</th>\n",
       "      <td>182800-2-0-0.wav</td>\n",
       "      <td>182800</td>\n",
       "      <td>1.405558</td>\n",
       "      <td>5.405558</td>\n",
       "      <td>1</td>\n",
       "      <td>1</td>\n",
       "      <td>2</td>\n",
       "      <td>children_playing</td>\n",
       "    </tr>\n",
       "    <tr>\n",
       "      <th>4095</th>\n",
       "      <td>178686-0-0-6.wav</td>\n",
       "      <td>178686</td>\n",
       "      <td>3.000000</td>\n",
       "      <td>7.000000</td>\n",
       "      <td>2</td>\n",
       "      <td>5</td>\n",
       "      <td>0</td>\n",
       "      <td>air_conditioner</td>\n",
       "    </tr>\n",
       "    <tr>\n",
       "      <th>4509</th>\n",
       "      <td>184805-0-0-99.wav</td>\n",
       "      <td>184805</td>\n",
       "      <td>49.500000</td>\n",
       "      <td>53.500000</td>\n",
       "      <td>2</td>\n",
       "      <td>6</td>\n",
       "      <td>0</td>\n",
       "      <td>air_conditioner</td>\n",
       "    </tr>\n",
       "    <tr>\n",
       "      <th>5961</th>\n",
       "      <td>28808-1-0-9.wav</td>\n",
       "      <td>28808</td>\n",
       "      <td>4.500000</td>\n",
       "      <td>8.500000</td>\n",
       "      <td>1</td>\n",
       "      <td>10</td>\n",
       "      <td>1</td>\n",
       "      <td>car_horn</td>\n",
       "    </tr>\n",
       "    <tr>\n",
       "      <th>8039</th>\n",
       "      <td>77774-4-0-2.wav</td>\n",
       "      <td>77774</td>\n",
       "      <td>1.000000</td>\n",
       "      <td>5.000000</td>\n",
       "      <td>1</td>\n",
       "      <td>5</td>\n",
       "      <td>4</td>\n",
       "      <td>drilling</td>\n",
       "    </tr>\n",
       "  </tbody>\n",
       "</table>\n",
       "</div>"
      ],
      "text/plain": [
       "        slice_file_name    fsID      start        end  salience  fold  \\\n",
       "7318    6902-2-0-26.wav    6902  13.000000  17.000000         1     7   \n",
       "6772    54898-8-0-4.wav   54898  48.992301  52.992301         2     3   \n",
       "6409    42117-8-0-0.wav   42117  88.660252  92.660252         2     3   \n",
       "3970  177756-2-0-12.wav  177756   6.000000  10.000000         1     4   \n",
       "8365   89443-9-0-48.wav   89443  24.000000  28.000000         1     7   \n",
       "4433   182800-2-0-0.wav  182800   1.405558   5.405558         1     1   \n",
       "4095   178686-0-0-6.wav  178686   3.000000   7.000000         2     5   \n",
       "4509  184805-0-0-99.wav  184805  49.500000  53.500000         2     6   \n",
       "5961    28808-1-0-9.wav   28808   4.500000   8.500000         1    10   \n",
       "8039    77774-4-0-2.wav   77774   1.000000   5.000000         1     5   \n",
       "\n",
       "      classID             class  \n",
       "7318        2  children_playing  \n",
       "6772        8             siren  \n",
       "6409        8             siren  \n",
       "3970        2  children_playing  \n",
       "8365        9      street_music  \n",
       "4433        2  children_playing  \n",
       "4095        0   air_conditioner  \n",
       "4509        0   air_conditioner  \n",
       "5961        1          car_horn  \n",
       "8039        4          drilling  "
      ]
     },
     "execution_count": 9,
     "metadata": {},
     "output_type": "execute_result"
    }
   ],
   "source": [
    "metaDF.sample(n = 10)"
   ]
  },
  {
   "cell_type": "code",
   "execution_count": 77,
   "metadata": {},
   "outputs": [],
   "source": [
    "# Finding the class of image using file name\n",
    "def class_finder(image_file):\n",
    "    name = str(image_file).split(\".\")[0]\n",
    "    name = name.split(\"\\\\\")[-1]\n",
    "    sound_name = name + \".wav\"\n",
    "\n",
    "    \n",
    "    class_id= metaDF.classID.loc[metaDF['slice_file_name'] == sound_name]\n",
    "\n",
    "    return int(class_id)"
   ]
  },
  {
   "cell_type": "code",
   "execution_count": 22,
   "metadata": {},
   "outputs": [],
   "source": [
    "# Create empty arrays and then append them using \n",
    "X = [] # For features, i.e., image file pixels\n",
    "y = [] # Target, i.e., class_id"
   ]
  },
  {
   "cell_type": "code",
   "execution_count": 23,
   "metadata": {},
   "outputs": [],
   "source": [
    "# Function to append X and y arrays\n",
    "def data_creator(image_file):\n",
    "\n",
    "    processed_image = image_processor(image_file)\n",
    "    class_id = class_finder(image_file)\n",
    "\n",
    "    X.append(processed_image) #Features\n",
    "\n",
    "    y.append(class_id) #Target\n",
    "\n",
    "    return X,y\n"
   ]
  },
  {
   "cell_type": "code",
   "execution_count": 23,
   "metadata": {},
   "outputs": [
    {
     "name": "stdout",
     "output_type": "stream",
     "text": [
      "6\n"
     ]
    }
   ],
   "source": [
    "# Test:\n",
    "classID = class_finder(\"7061-6-0-0.png\")\n",
    "\n",
    "print(classID)"
   ]
  },
  {
   "cell_type": "markdown",
   "metadata": {},
   "source": [
    "## Creating dataset and splitting them into train, test, and validation"
   ]
  },
  {
   "cell_type": "code",
   "execution_count": 72,
   "metadata": {},
   "outputs": [],
   "source": [
    "spect_path = r\"C:\\Users\\kemal\\Desktop\\UrbanSound8K\\data\"\n",
    "\n",
    "folder_names = os.listdir(spect_path)"
   ]
  },
  {
   "cell_type": "code",
   "execution_count": 73,
   "metadata": {},
   "outputs": [
    {
     "name": "stdout",
     "output_type": "stream",
     "text": [
      "['C:\\\\Users\\\\kemal\\\\Desktop\\\\UrbanSound8K\\\\data\\\\0', 'C:\\\\Users\\\\kemal\\\\Desktop\\\\UrbanSound8K\\\\data\\\\1', 'C:\\\\Users\\\\kemal\\\\Desktop\\\\UrbanSound8K\\\\data\\\\2', 'C:\\\\Users\\\\kemal\\\\Desktop\\\\UrbanSound8K\\\\data\\\\3', 'C:\\\\Users\\\\kemal\\\\Desktop\\\\UrbanSound8K\\\\data\\\\4', 'C:\\\\Users\\\\kemal\\\\Desktop\\\\UrbanSound8K\\\\data\\\\5', 'C:\\\\Users\\\\kemal\\\\Desktop\\\\UrbanSound8K\\\\data\\\\6', 'C:\\\\Users\\\\kemal\\\\Desktop\\\\UrbanSound8K\\\\data\\\\7', 'C:\\\\Users\\\\kemal\\\\Desktop\\\\UrbanSound8K\\\\data\\\\8', 'C:\\\\Users\\\\kemal\\\\Desktop\\\\UrbanSound8K\\\\data\\\\9']\n"
     ]
    }
   ],
   "source": [
    "spect_folder_paths = []\n",
    "for name in folder_names:\n",
    "    joined_path = os.path.join(spect_path,name )\n",
    "    spect_folder_paths.append(joined_path)\n",
    "\n",
    "print(spect_folder_paths)"
   ]
  },
  {
   "cell_type": "code",
   "execution_count": 74,
   "metadata": {},
   "outputs": [],
   "source": [
    "X = []\n",
    "y = []"
   ]
  },
  {
   "cell_type": "code",
   "execution_count": 78,
   "metadata": {},
   "outputs": [],
   "source": [
    "for folders in spect_folder_paths:\n",
    "    file_list = os.listdir(folders)\n",
    "    \n",
    "    for file in file_list:\n",
    "        file_path = os.path.join(folders,file)\n",
    "        data_creator(file_path)"
   ]
  },
  {
   "cell_type": "code",
   "execution_count": 79,
   "metadata": {},
   "outputs": [],
   "source": [
    "X = np.array(X)\n",
    "y = np.array(y)"
   ]
  },
  {
   "cell_type": "code",
   "execution_count": 83,
   "metadata": {},
   "outputs": [],
   "source": [
    "# Creating test, train, and validation datesets.\n",
    "X_train, X_tv, y_train, y_tv = train_test_split(X, y, train_size=0.8) #random_state=35\n",
    "X_test, X_val, y_test, y_val = train_test_split(X_tv, y_tv, test_size=0.5)"
   ]
  },
  {
   "cell_type": "code",
   "execution_count": 84,
   "metadata": {},
   "outputs": [
    {
     "name": "stdout",
     "output_type": "stream",
     "text": [
      "Length of X_train: 6985 \n",
      "Length of y_train: 6985\n",
      "Length of X_test: 873 \n",
      "Length of y_test: 873\n",
      "Length of X_val: 874 \n",
      "Length of y_test: 874\n"
     ]
    }
   ],
   "source": [
    "# Print out the lengths of the sets:\n",
    "print(f\"Length of X_train: {len(X_train)} \\nLength of y_train: {len(y_train)}\\nLength of X_test: {len(X_test)} \\nLength of y_test: {len(y_test)}\\nLength of X_val: {len(X_val)} \\nLength of y_test: {len(y_val)}\")"
   ]
  },
  {
   "cell_type": "code",
   "execution_count": 88,
   "metadata": {},
   "outputs": [],
   "source": [
    "# Save them to give as an input to CNNs\n",
    "np.save('X_test.npy', X_test, allow_pickle=True)"
   ]
  },
  {
   "cell_type": "code",
   "execution_count": 89,
   "metadata": {},
   "outputs": [],
   "source": [
    "np.save('X_train.npy', X_train, allow_pickle=True)\n",
    "np.save('X_val.npy', X_val, allow_pickle=True)\n",
    "np.save('y_train.npy', y_train, allow_pickle=True)\n",
    "np.save('y_test.npy', y_test, allow_pickle=True)\n",
    "np.save('y_val.npy', y_val, allow_pickle=True)"
   ]
  }
 ],
 "metadata": {
  "kernelspec": {
   "display_name": "Python 3.10.7 64-bit",
   "language": "python",
   "name": "python3"
  },
  "language_info": {
   "codemirror_mode": {
    "name": "ipython",
    "version": 3
   },
   "file_extension": ".py",
   "mimetype": "text/x-python",
   "name": "python",
   "nbconvert_exporter": "python",
   "pygments_lexer": "ipython3",
   "version": "3.10.7"
  },
  "orig_nbformat": 4,
  "vscode": {
   "interpreter": {
    "hash": "9d4cf3646afb423126a22615235f27fe08b5580b0419a9fc25c56e523c1abb8a"
   }
  }
 },
 "nbformat": 4,
 "nbformat_minor": 2
}
