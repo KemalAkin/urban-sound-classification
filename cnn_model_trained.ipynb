{
  "cells": [
    {
      "cell_type": "code",
      "execution_count": 1,
      "metadata": {
        "id": "X5NpflugrQIQ"
      },
      "outputs": [],
      "source": [
        "import tensorflow as tf\n",
        "\n",
        "import numpy as np\n",
        "import matplotlib.pyplot as plt"
      ]
    },
    {
      "cell_type": "code",
      "source": [
        "# Access the datasets either by linking Drive account or just simply upload the dataset!\n",
        "#from google.colab import drive\n",
        "#drive.mount('/content/drive')"
      ],
      "metadata": {
        "id": "IsX2HS-qrrCY"
      },
      "execution_count": null,
      "outputs": []
    },
    {
      "cell_type": "code",
      "execution_count": 3,
      "metadata": {
        "id": "_ZYwY7VArQIS"
      },
      "outputs": [],
      "source": [
        "# Load the the dataset:\n",
        "X_train = np.load('X_train.npy', allow_pickle=True)\n",
        "X_test = np.load('X_test.npy', allow_pickle=True)\n",
        "X_val = np.load('X_val.npy', allow_pickle=True)\n",
        "\n",
        "y_train = np.load('y_train.npy', allow_pickle=True)\n",
        "y_test = np.load('y_test.npy', allow_pickle=True)\n",
        "y_val = np.load('y_val.npy', allow_pickle=True)"
      ]
    },
    {
      "cell_type": "code",
      "execution_count": 4,
      "metadata": {
        "colab": {
          "base_uri": "https://localhost:8080/"
        },
        "id": "PaoM5QEqrQIT",
        "outputId": "42a29505-17f2-46c0-a694-5b303ffa3500"
      },
      "outputs": [
        {
          "output_type": "stream",
          "name": "stdout",
          "text": [
            "Length of X_train: \t 6985\n",
            "Length of X_test: \t 873\n",
            "Length of X_val: \t 874\n",
            "Length of y_train: \t 6985\n",
            "Length of y_test: \t 873\n",
            "Length of y_val: \t 874\n"
          ]
        }
      ],
      "source": [
        "print(f\"Length of X_train: \\t {len(X_train)}\")\n",
        "print(f\"Length of X_test: \\t {len(X_test)}\")\n",
        "print(f\"Length of X_val: \\t {len(X_val)}\")\n",
        "\n",
        "print(f\"Length of y_train: \\t {len(y_train)}\")\n",
        "print(f\"Length of y_test: \\t {len(y_test)}\")\n",
        "print(f\"Length of y_val: \\t {len(y_val)}\")"
      ]
    },
    {
      "cell_type": "code",
      "source": [
        "X_test[15]"
      ],
      "metadata": {
        "colab": {
          "base_uri": "https://localhost:8080/"
        },
        "id": "zkSXe-Mls333",
        "outputId": "39251fe6-35bf-4af2-8302-090d75b8266b"
      },
      "execution_count": 5,
      "outputs": [
        {
          "output_type": "execute_result",
          "data": {
            "text/plain": [
              "array([[  9,  12,  18, ...,   1,   0,   1],\n",
              "       [ 55,  53,  65, ...,  37,  39,  42],\n",
              "       [ 54,  63,  72, ...,  50,  49,  41],\n",
              "       ...,\n",
              "       [151, 144, 148, ..., 122, 125, 115],\n",
              "       [130, 158, 159, ..., 147, 147, 147],\n",
              "       [165, 188, 184, ..., 172, 156, 167]], dtype=uint8)"
            ]
          },
          "metadata": {},
          "execution_count": 5
        }
      ]
    },
    {
      "cell_type": "code",
      "execution_count": 6,
      "metadata": {
        "id": "8Om_qlVzrQIU"
      },
      "outputs": [],
      "source": [
        "# Divide each dataset by 255\n",
        "X_train = X_train/255\n",
        "X_test = X_test/255\n",
        "X_val = X_val/255"
      ]
    },
    {
      "cell_type": "code",
      "source": [
        "plt.imshow(X_train[135], cmap=\"gray\")"
      ],
      "metadata": {
        "colab": {
          "base_uri": "https://localhost:8080/",
          "height": 285
        },
        "id": "7Iaeb9rNnXBP",
        "outputId": "876f8a49-c355-4351-ae4d-d29eba608fc6"
      },
      "execution_count": 7,
      "outputs": [
        {
          "output_type": "execute_result",
          "data": {
            "text/plain": [
              "<matplotlib.image.AxesImage at 0x7f4648107310>"
            ]
          },
          "metadata": {},
          "execution_count": 7
        },
        {
          "output_type": "display_data",
          "data": {
            "text/plain": [
              "<Figure size 432x288 with 1 Axes>"
            ],
            "image/png": "[encoded data removed]"
          },
          "metadata": {
            "needs_background": "light"
          }
        }
      ]
    },
    {
      "cell_type": "markdown",
      "metadata": {
        "id": "bKwAJuforQIV"
      },
      "source": [
        "# Construct the Neural Network"
      ]
    },
    {
      "cell_type": "code",
      "execution_count": 8,
      "metadata": {
        "id": "T5ORye1TrQIW"
      },
      "outputs": [],
      "source": [
        "# Import required methods from tensorflow.keras\n",
        "from tensorflow.keras import Sequential\n",
        "from tensorflow.keras.layers import Conv2D, MaxPooling2D, Flatten, Dense, Dropout"
      ]
    },
    {
      "cell_type": "code",
      "execution_count": 9,
      "metadata": {
        "id": "h11Af_M9rQIX"
      },
      "outputs": [],
      "source": [
        "# Create the model object\n",
        "model = Sequential()"
      ]
    },
    {
      "cell_type": "markdown",
      "source": [
        "## Feature Extraction Layers\n",
        "\n",
        "For the first two layers, we add a convolution and max pooling layer."
      ],
      "metadata": {
        "id": "_biqDKyxqrTC"
      }
    },
    {
      "cell_type": "code",
      "execution_count": 10,
      "metadata": {
        "id": "eyZXcNLNrQIX"
      },
      "outputs": [],
      "source": [
        "model.add(Conv2D(32,\n",
        "                 kernel_size = (3,3),     # Convolution layer K.S (3x3)\n",
        "                 strides=(1,1),           # Scans 1-1\n",
        "                 padding = \"same\",        # Same for edges\n",
        "                 activation = \"relu\",     # Choose Rectified Linear Unit(relu) | alts: leaky_relu, sigmoid, tanh\n",
        "                 input_shape=(64,64,1)))  # Same as image shape!\n",
        "\n",
        "model.add(MaxPooling2D((2,2)))"
      ]
    },
    {
      "cell_type": "markdown",
      "source": [
        "Add more layers.."
      ],
      "metadata": {
        "id": "wUUaxPfEqk8K"
      }
    },
    {
      "cell_type": "code",
      "execution_count": 11,
      "metadata": {
        "id": "Aax9ljiVrQIY"
      },
      "outputs": [],
      "source": [
        "model.add(Conv2D(64,\n",
        "                 kernel_size = (3,3),\n",
        "                 strides=(1,1),\n",
        "                 padding = \"same\",\n",
        "                 activation = \"relu\",\n",
        "                 input_shape=(64,64,1)))\n",
        "\n",
        "model.add(MaxPooling2D((2,2)))\n",
        "\n",
        "model.add(Conv2D(64,\n",
        "                 kernel_size = (3,3),\n",
        "                 strides=(1,1),\n",
        "                 padding = \"same\",\n",
        "                 activation = \"relu\",\n",
        "                 input_shape=(64,64,1)))"
      ]
    },
    {
      "cell_type": "markdown",
      "source": [
        "Now, in order to connect the 2D convolution and 1D dense layers, we flatten the convolution layer."
      ],
      "metadata": {
        "id": "BUdlyuodrKvf"
      }
    },
    {
      "cell_type": "code",
      "execution_count": 12,
      "metadata": {
        "id": "DEhmTiUorQIY"
      },
      "outputs": [],
      "source": [
        "model.add(Flatten())"
      ]
    },
    {
      "cell_type": "markdown",
      "source": [
        "Add two dense layers:"
      ],
      "metadata": {
        "id": "NEH5rtgprVm-"
      }
    },
    {
      "cell_type": "code",
      "execution_count": 13,
      "metadata": {
        "id": "EM8_eFXKrQIZ"
      },
      "outputs": [],
      "source": [
        "model.add(Dense(64, activation = \"relu\"))\n",
        "model.add(Dropout(0.5))\n",
        "\n",
        "model.add(Dense(64, activation = \"relu\"))\n",
        "model.add(Dropout(0.5))"
      ]
    },
    {
      "cell_type": "code",
      "execution_count": 14,
      "metadata": {
        "id": "7PXqa6gArQIZ"
      },
      "outputs": [],
      "source": [
        "# Add the output layer\n",
        "model.add(tf.keras.layers.Dense(10, activation = \"softmax\")) #We have 10 class"
      ]
    },
    {
      "cell_type": "code",
      "execution_count": 15,
      "metadata": {
        "colab": {
          "base_uri": "https://localhost:8080/"
        },
        "id": "DgXbay44rQIa",
        "outputId": "36b71ccf-0f2a-47e2-d48c-f3711ac8be72"
      },
      "outputs": [
        {
          "output_type": "stream",
          "name": "stdout",
          "text": [
            "Model: \"sequential\"\n",
            "_________________________________________________________________\n",
            " Layer (type)                Output Shape              Param #   \n",
            "=================================================================\n",
            " conv2d (Conv2D)             (None, 64, 64, 32)        320       \n",
            "                                                                 \n",
            " max_pooling2d (MaxPooling2D  (None, 32, 32, 32)       0         \n",
            " )                                                               \n",
            "                                                                 \n",
            " conv2d_1 (Conv2D)           (None, 32, 32, 64)        18496     \n",
            "                                                                 \n",
            " max_pooling2d_1 (MaxPooling  (None, 16, 16, 64)       0         \n",
            " 2D)                                                             \n",
            "                                                                 \n",
            " conv2d_2 (Conv2D)           (None, 16, 16, 64)        36928     \n",
            "                                                                 \n",
            " flatten (Flatten)           (None, 16384)             0         \n",
            "                                                                 \n",
            " dense (Dense)               (None, 64)                1048640   \n",
            "                                                                 \n",
            " dropout (Dropout)           (None, 64)                0         \n",
            "                                                                 \n",
            " dense_1 (Dense)             (None, 64)                4160      \n",
            "                                                                 \n",
            " dropout_1 (Dropout)         (None, 64)                0         \n",
            "                                                                 \n",
            " dense_2 (Dense)             (None, 10)                650       \n",
            "                                                                 \n",
            "=================================================================\n",
            "Total params: 1,109,194\n",
            "Trainable params: 1,109,194\n",
            "Non-trainable params: 0\n",
            "_________________________________________________________________\n"
          ]
        }
      ],
      "source": [
        "# Let's summarize the model\n",
        "model.summary()"
      ]
    },
    {
      "cell_type": "markdown",
      "metadata": {
        "id": "1t7kFI-0rQIa"
      },
      "source": [
        "## Optimizer"
      ]
    },
    {
      "cell_type": "code",
      "execution_count": 16,
      "metadata": {
        "id": "v9On3A1brQIb"
      },
      "outputs": [],
      "source": [
        "# Compile the model\n",
        "model.compile(optimizer=\"adam\",\n",
        "              loss = \"sparse_categorical_crossentropy\", #Multi class classification\n",
        "              metrics = [\"accuracy\"])"
      ]
    },
    {
      "cell_type": "markdown",
      "metadata": {
        "id": "ACAlzb6RrQIb"
      },
      "source": [
        "## Training the Model"
      ]
    },
    {
      "cell_type": "code",
      "source": [
        "results = model.fit(X_train, y_train,\n",
        "                    batch_size = 128,   # How many pictures does the NN see at the same time\n",
        "                    epochs = 50,\n",
        "                    validation_data = (X_val, y_val))"
      ],
      "metadata": {
        "colab": {
          "base_uri": "https://localhost:8080/"
        },
        "id": "qLml5H8IrkeG",
        "outputId": "0fc996b0-f4be-47f4-b616-88a181290c5a"
      },
      "execution_count": 17,
      "outputs": [
        {
          "output_type": "stream",
          "name": "stdout",
          "text": [
            "Epoch 1/50\n",
            "55/55 [==============================] - 5s 28ms/step - loss: 2.2189 - accuracy: 0.1644 - val_loss: 1.9851 - val_accuracy: 0.3055\n",
            "Epoch 2/50\n",
            "55/55 [==============================] - 1s 19ms/step - loss: 1.9629 - accuracy: 0.2696 - val_loss: 1.7294 - val_accuracy: 0.4062\n",
            "Epoch 3/50\n",
            "55/55 [==============================] - 1s 19ms/step - loss: 1.7478 - accuracy: 0.3641 - val_loss: 1.4809 - val_accuracy: 0.5080\n",
            "Epoch 4/50\n",
            "55/55 [==============================] - 1s 19ms/step - loss: 1.5778 - accuracy: 0.4335 - val_loss: 1.3143 - val_accuracy: 0.5629\n",
            "Epoch 5/50\n",
            "55/55 [==============================] - 1s 19ms/step - loss: 1.4526 - accuracy: 0.4859 - val_loss: 1.3661 - val_accuracy: 0.5080\n",
            "Epoch 6/50\n",
            "55/55 [==============================] - 1s 19ms/step - loss: 1.3585 - accuracy: 0.5225 - val_loss: 1.1173 - val_accuracy: 0.6487\n",
            "Epoch 7/50\n",
            "55/55 [==============================] - 1s 20ms/step - loss: 1.2870 - accuracy: 0.5422 - val_loss: 1.0188 - val_accuracy: 0.6682\n",
            "Epoch 8/50\n",
            "55/55 [==============================] - 1s 19ms/step - loss: 1.2207 - accuracy: 0.5761 - val_loss: 1.0325 - val_accuracy: 0.6533\n",
            "Epoch 9/50\n",
            "55/55 [==============================] - 1s 19ms/step - loss: 1.1669 - accuracy: 0.5861 - val_loss: 0.9222 - val_accuracy: 0.7151\n",
            "Epoch 10/50\n",
            "55/55 [==============================] - 1s 19ms/step - loss: 1.1031 - accuracy: 0.6170 - val_loss: 0.8593 - val_accuracy: 0.7334\n",
            "Epoch 11/50\n",
            "55/55 [==============================] - 1s 19ms/step - loss: 1.0353 - accuracy: 0.6451 - val_loss: 0.8437 - val_accuracy: 0.7403\n",
            "Epoch 12/50\n",
            "55/55 [==============================] - 1s 19ms/step - loss: 0.9965 - accuracy: 0.6551 - val_loss: 0.7717 - val_accuracy: 0.7654\n",
            "Epoch 13/50\n",
            "55/55 [==============================] - 1s 19ms/step - loss: 0.9704 - accuracy: 0.6674 - val_loss: 0.7050 - val_accuracy: 0.7780\n",
            "Epoch 14/50\n",
            "55/55 [==============================] - 1s 19ms/step - loss: 0.9031 - accuracy: 0.6873 - val_loss: 0.7118 - val_accuracy: 0.7883\n",
            "Epoch 15/50\n",
            "55/55 [==============================] - 1s 19ms/step - loss: 0.8885 - accuracy: 0.6961 - val_loss: 0.6609 - val_accuracy: 0.8032\n",
            "Epoch 16/50\n",
            "55/55 [==============================] - 1s 19ms/step - loss: 0.8662 - accuracy: 0.7087 - val_loss: 0.6374 - val_accuracy: 0.8249\n",
            "Epoch 17/50\n",
            "55/55 [==============================] - 1s 19ms/step - loss: 0.8324 - accuracy: 0.7115 - val_loss: 0.6561 - val_accuracy: 0.8078\n",
            "Epoch 18/50\n",
            "55/55 [==============================] - 1s 19ms/step - loss: 0.7815 - accuracy: 0.7293 - val_loss: 0.6199 - val_accuracy: 0.8238\n",
            "Epoch 19/50\n",
            "55/55 [==============================] - 1s 19ms/step - loss: 0.7505 - accuracy: 0.7420 - val_loss: 0.6003 - val_accuracy: 0.8352\n",
            "Epoch 20/50\n",
            "55/55 [==============================] - 1s 19ms/step - loss: 0.7311 - accuracy: 0.7512 - val_loss: 0.5955 - val_accuracy: 0.8181\n",
            "Epoch 21/50\n",
            "55/55 [==============================] - 1s 19ms/step - loss: 0.6814 - accuracy: 0.7659 - val_loss: 0.5502 - val_accuracy: 0.8375\n",
            "Epoch 22/50\n",
            "55/55 [==============================] - 1s 19ms/step - loss: 0.6599 - accuracy: 0.7675 - val_loss: 0.5307 - val_accuracy: 0.8501\n",
            "Epoch 23/50\n",
            "55/55 [==============================] - 1s 19ms/step - loss: 0.6328 - accuracy: 0.7841 - val_loss: 0.5169 - val_accuracy: 0.8432\n",
            "Epoch 24/50\n",
            "55/55 [==============================] - 1s 19ms/step - loss: 0.6117 - accuracy: 0.7854 - val_loss: 0.5299 - val_accuracy: 0.8535\n",
            "Epoch 25/50\n",
            "55/55 [==============================] - 1s 21ms/step - loss: 0.5779 - accuracy: 0.8009 - val_loss: 0.5384 - val_accuracy: 0.8513\n",
            "Epoch 26/50\n",
            "55/55 [==============================] - 1s 19ms/step - loss: 0.5647 - accuracy: 0.8039 - val_loss: 0.5170 - val_accuracy: 0.8455\n",
            "Epoch 27/50\n",
            "55/55 [==============================] - 1s 19ms/step - loss: 0.5445 - accuracy: 0.8113 - val_loss: 0.5045 - val_accuracy: 0.8547\n",
            "Epoch 28/50\n",
            "55/55 [==============================] - 1s 19ms/step - loss: 0.5266 - accuracy: 0.8160 - val_loss: 0.4675 - val_accuracy: 0.8650\n",
            "Epoch 29/50\n",
            "55/55 [==============================] - 1s 19ms/step - loss: 0.5030 - accuracy: 0.8263 - val_loss: 0.4809 - val_accuracy: 0.8593\n",
            "Epoch 30/50\n",
            "55/55 [==============================] - 1s 19ms/step - loss: 0.5032 - accuracy: 0.8241 - val_loss: 0.5029 - val_accuracy: 0.8593\n",
            "Epoch 31/50\n",
            "55/55 [==============================] - 1s 19ms/step - loss: 0.4939 - accuracy: 0.8242 - val_loss: 0.4578 - val_accuracy: 0.8741\n",
            "Epoch 32/50\n",
            "55/55 [==============================] - 1s 19ms/step - loss: 0.4822 - accuracy: 0.8289 - val_loss: 0.4945 - val_accuracy: 0.8581\n",
            "Epoch 33/50\n",
            "55/55 [==============================] - 1s 19ms/step - loss: 0.4943 - accuracy: 0.8235 - val_loss: 0.4932 - val_accuracy: 0.8627\n",
            "Epoch 34/50\n",
            "55/55 [==============================] - 1s 19ms/step - loss: 0.4617 - accuracy: 0.8385 - val_loss: 0.4513 - val_accuracy: 0.8776\n",
            "Epoch 35/50\n",
            "55/55 [==============================] - 1s 19ms/step - loss: 0.4437 - accuracy: 0.8465 - val_loss: 0.4796 - val_accuracy: 0.8730\n",
            "Epoch 36/50\n",
            "55/55 [==============================] - 1s 19ms/step - loss: 0.4442 - accuracy: 0.8422 - val_loss: 0.4833 - val_accuracy: 0.8673\n",
            "Epoch 37/50\n",
            "55/55 [==============================] - 1s 19ms/step - loss: 0.4295 - accuracy: 0.8488 - val_loss: 0.5491 - val_accuracy: 0.8524\n",
            "Epoch 38/50\n",
            "55/55 [==============================] - 1s 19ms/step - loss: 0.4182 - accuracy: 0.8517 - val_loss: 0.5004 - val_accuracy: 0.8741\n",
            "Epoch 39/50\n",
            "55/55 [==============================] - 1s 19ms/step - loss: 0.4050 - accuracy: 0.8571 - val_loss: 0.5100 - val_accuracy: 0.8673\n",
            "Epoch 40/50\n",
            "55/55 [==============================] - 1s 19ms/step - loss: 0.4022 - accuracy: 0.8588 - val_loss: 0.5068 - val_accuracy: 0.8707\n",
            "Epoch 41/50\n",
            "55/55 [==============================] - 1s 19ms/step - loss: 0.3974 - accuracy: 0.8568 - val_loss: 0.5039 - val_accuracy: 0.8822\n",
            "Epoch 42/50\n",
            "55/55 [==============================] - 1s 19ms/step - loss: 0.3941 - accuracy: 0.8637 - val_loss: 0.5048 - val_accuracy: 0.8856\n",
            "Epoch 43/50\n",
            "55/55 [==============================] - 1s 19ms/step - loss: 0.3683 - accuracy: 0.8667 - val_loss: 0.4880 - val_accuracy: 0.8902\n",
            "Epoch 44/50\n",
            "55/55 [==============================] - 1s 19ms/step - loss: 0.3533 - accuracy: 0.8737 - val_loss: 0.5001 - val_accuracy: 0.8822\n",
            "Epoch 45/50\n",
            "55/55 [==============================] - 1s 19ms/step - loss: 0.3497 - accuracy: 0.8733 - val_loss: 0.5049 - val_accuracy: 0.8776\n",
            "Epoch 46/50\n",
            "55/55 [==============================] - 1s 19ms/step - loss: 0.3487 - accuracy: 0.8799 - val_loss: 0.5193 - val_accuracy: 0.8879\n",
            "Epoch 47/50\n",
            "55/55 [==============================] - 1s 19ms/step - loss: 0.3509 - accuracy: 0.8747 - val_loss: 0.5029 - val_accuracy: 0.8879\n",
            "Epoch 48/50\n",
            "55/55 [==============================] - 1s 19ms/step - loss: 0.3337 - accuracy: 0.8807 - val_loss: 0.5231 - val_accuracy: 0.8661\n",
            "Epoch 49/50\n",
            "55/55 [==============================] - 1s 19ms/step - loss: 0.3345 - accuracy: 0.8780 - val_loss: 0.5517 - val_accuracy: 0.8684\n",
            "Epoch 50/50\n",
            "55/55 [==============================] - 1s 19ms/step - loss: 0.3772 - accuracy: 0.8667 - val_loss: 0.5255 - val_accuracy: 0.8707\n"
          ]
        }
      ]
    },
    {
      "cell_type": "code",
      "source": [
        "# Plot the the training loss\n",
        "plt.plot(results.history['loss'], c = 'Crimson', label = 'Train')\n",
        "\n",
        "# Plot the the validation loss\n",
        "plt.plot(results.history['val_loss'], c= 'navy', label = 'Validation')\n",
        "\n",
        "# Name the x and y axises\n",
        "plt.xlabel('Epoch')\n",
        "plt.ylabel('Loss')\n",
        "\n",
        "# Put legend table\n",
        "plt.legend()\n",
        "\n",
        "# Show the plot\n",
        "plt.show()"
      ],
      "metadata": {
        "colab": {
          "base_uri": "https://localhost:8080/",
          "height": 279
        },
        "id": "aHPJCq3ZtYXI",
        "outputId": "50b64515-1960-46a9-8947-1460859b97fc"
      },
      "execution_count": 18,
      "outputs": [
        {
          "output_type": "display_data",
          "data": {
            "text/plain": [
              "<Figure size 432x288 with 1 Axes>"
            ],
            "image/png": "[encoded data removed]"
          },
          "metadata": {
            "needs_background": "light"
          }
        }
      ]
    },
    {
      "cell_type": "code",
      "source": [
        "# Plot the the training accuracy\n",
        "plt.plot(results.history['accuracy'], c = 'Crimson', label = 'Accuracy')\n",
        "\n",
        "# Plot the the validation accuracy\n",
        "plt.plot(results.history['val_accuracy'], c = 'navy', label = 'Validation Accuracy')\n",
        "\n",
        "# Name the x and y axises\n",
        "plt.xlabel('Epoch')\n",
        "plt.ylabel('Accuracy')\n",
        "\n",
        "# Put legend table\n",
        "plt.legend()\n",
        "\n",
        "# Show the plot\n",
        "plt.show()"
      ],
      "metadata": {
        "colab": {
          "base_uri": "https://localhost:8080/",
          "height": 279
        },
        "id": "qOh9xrRttwXo",
        "outputId": "d170bb43-dae9-434e-b880-3458c14b0613"
      },
      "execution_count": 19,
      "outputs": [
        {
          "output_type": "display_data",
          "data": {
            "text/plain": [
              "<Figure size 432x288 with 1 Axes>"
            ],
            "image/png": "[encoded data removed]"
          },
          "metadata": {
            "needs_background": "light"
          }
        }
      ]
    },
    {
      "cell_type": "code",
      "source": [
        "# Evaluate the performance\n",
        "model.evaluate(X_test, y_test)"
      ],
      "metadata": {
        "colab": {
          "base_uri": "https://localhost:8080/"
        },
        "id": "pGEwnKhZtzXn",
        "outputId": "bfd2a0ff-3249-4b58-86d2-b0e899d50f93"
      },
      "execution_count": 20,
      "outputs": [
        {
          "output_type": "stream",
          "name": "stdout",
          "text": [
            "28/28 [==============================] - 0s 7ms/step - loss: 0.5448 - accuracy: 0.8580\n"
          ]
        },
        {
          "output_type": "execute_result",
          "data": {
            "text/plain": [
              "[0.5447598099708557, 0.8579610586166382]"
            ]
          },
          "metadata": {},
          "execution_count": 20
        }
      ]
    },
    {
      "cell_type": "code",
      "source": [
        "# Make prediction on the reshaped sample\n",
        "prediction_result = model.predict(X_test[320].reshape(1,64,64,1))\n",
        "\n",
        "# Print the prediction result\n",
        "prediction_result"
      ],
      "metadata": {
        "colab": {
          "base_uri": "https://localhost:8080/"
        },
        "id": "A6UzINbqt18Q",
        "outputId": "7be83ce4-7b1a-4d04-d7e8-0af3dd77153e"
      },
      "execution_count": 21,
      "outputs": [
        {
          "output_type": "execute_result",
          "data": {
            "text/plain": [
              "array([[9.5843716e-06, 4.4198672e-10, 1.4231774e-06, 4.2200304e-04,\n",
              "        9.9946445e-01, 1.5856889e-09, 6.4917671e-08, 8.6807726e-05,\n",
              "        4.0217074e-08, 1.5641484e-05]], dtype=float32)"
            ]
          },
          "metadata": {},
          "execution_count": 21
        }
      ]
    },
    {
      "cell_type": "code",
      "source": [
        "# Find the predicted class\n",
        "predicted_class = prediction_result.argmax()\n",
        "# Find the prediction probability\n",
        "predicted_probability = prediction_result.max()"
      ],
      "metadata": {
        "id": "boaAuJIguCdQ"
      },
      "execution_count": 22,
      "outputs": []
    },
    {
      "cell_type": "code",
      "source": [
        "# Print the results\n",
        "print(f\"Image belongs to the class {predicted_class} with {predicted_probability} probability.\")"
      ],
      "metadata": {
        "colab": {
          "base_uri": "https://localhost:8080/"
        },
        "id": "uhv0FPtcuEtK",
        "outputId": "1292fc5f-5a8b-44cd-eac9-181ad69fa373"
      },
      "execution_count": 23,
      "outputs": [
        {
          "output_type": "stream",
          "name": "stdout",
          "text": [
            "Image belongs to the class 4 with 0.9994644522666931 probability.\n"
          ]
        }
      ]
    },
    {
      "cell_type": "code",
      "source": [
        "plt.imshow(prediction_result)"
      ],
      "metadata": {
        "colab": {
          "base_uri": "https://localhost:8080/",
          "height": 102
        },
        "id": "VdoTgn1SuHEw",
        "outputId": "29ffa2d0-bed3-47df-e122-5f246e8cf7b1"
      },
      "execution_count": 24,
      "outputs": [
        {
          "output_type": "execute_result",
          "data": {
            "text/plain": [
              "<matplotlib.image.AxesImage at 0x7f45ca60af50>"
            ]
          },
          "metadata": {},
          "execution_count": 24
        },
        {
          "output_type": "display_data",
          "data": {
            "text/plain": [
              "<Figure size 432x288 with 1 Axes>"
            ],
            "image/png": "[encoded data removed]"
          },
          "metadata": {
            "needs_background": "light"
          }
        }
      ]
    },
    {
      "cell_type": "code",
      "source": [],
      "metadata": {
        "id": "fof1f5iKt5T1"
      },
      "execution_count": null,
      "outputs": []
    }
  ],
  "metadata": {
    "kernelspec": {
      "display_name": "Python 3.10.7 64-bit",
      "language": "python",
      "name": "python3"
    },
    "language_info": {
      "codemirror_mode": {
        "name": "ipython",
        "version": 3
      },
      "file_extension": ".py",
      "mimetype": "text/x-python",
      "name": "python",
      "nbconvert_exporter": "python",
      "pygments_lexer": "ipython3",
      "version": "3.10.7"
    },
    "orig_nbformat": 4,
    "vscode": {
      "interpreter": {
        "hash": "9d4cf3646afb423126a22615235f27fe08b5580b0419a9fc25c56e523c1abb8a"
      }
    },
    "colab": {
      "provenance": [],
      "collapsed_sections": []
    },
    "accelerator": "GPU"
  },
  "nbformat": 4,
  "nbformat_minor": 0
}